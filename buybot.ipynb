{
 "cells": [
  {
   "cell_type": "code",
   "execution_count": 1,
   "id": "91a689c5-5085-45e1-b979-e50adddb43ba",
   "metadata": {},
   "outputs": [],
   "source": [
    "from selenium import webdriver as wd\n",
    "import chromedriver_binary\n",
    "\n",
    "import random\n",
    "import time"
   ]
  },
  {
   "cell_type": "code",
   "execution_count": 2,
   "id": "c353f4b5-d9ba-4268-857f-24d7bca57a51",
   "metadata": {},
   "outputs": [],
   "source": [
    "# Open chrome (should manually open and log in myself)\n",
    "wd = wd.Chrome()\n",
    "wd.implicitly_wait(3)\n",
    "\n",
    "wd.get(\"https://www.qwertykeys.com/account/login\")"
   ]
  },
  {
   "cell_type": "code",
   "execution_count": 3,
   "id": "009bb25e-dc3c-459d-9007-12c5c3fead32",
   "metadata": {},
   "outputs": [],
   "source": [
    "# Log in account\n",
    "\n",
    "login_email = wd.find_element_by_xpath('//*[@id=\"customer_email\"]')\n",
    "type(login_email)\n",
    "login_email.send_keys('xxx') ## Input email here\n",
    "\n",
    "login_pw = wd.find_element_by_xpath('//*[@id=\"customer_password\"]')\n",
    "type(login_pw)\n",
    "login_pw.send_keys('xxx') ## Input password here\n",
    "\n",
    "sign_in_button = wd.find_element_by_xpath('//*[@id=\"customer_login\"]/div[3]/div/button/span')\n",
    "sign_in_button.click()\n",
    "\n",
    "time.sleep(1)"
   ]
  },
  {
   "cell_type": "code",
   "execution_count": 4,
   "id": "c682c3aa-6ca5-437f-8501-04879d622bc6",
   "metadata": {},
   "outputs": [],
   "source": [
    "# Refresh loop until item is in stock to add to cart\n",
    "\n",
    "#from selenium.common.exceptions import NoSuchElementException\n",
    "\n",
    "#while (True):\n",
    "#    try:\n",
    "#        wd.get(\"https://www.qwertykeys.com/products/jrrgvdsyu47wer\")   ##don't need this if I have refresh\n",
    "#        add_to_cart_button = wd.find_element_by_xpath('//*[@data-action=\"add-to-cart\"]')\n",
    "#        add_to_cart_button.click()\n",
    "#        break\n",
    "#    except NoSuchElementException:\n",
    "#        print('Unavailable')"
   ]
  },
  {
   "cell_type": "code",
   "execution_count": 5,
   "id": "6c7ddedf-8c31-4d42-aa4c-8629b297c2f8",
   "metadata": {},
   "outputs": [],
   "source": [
    "# Test product to buy\n",
    "wd.get(\"https://www.qwertykeys.com/products/jelly-epoch-extra-parts\") ## Input website URL here\n",
    "\n",
    "# Add items to cart\n",
    "\n",
    "# Select Poron foam (cheapest item for testing)\n",
    "poron_foam = wd.find_element_by_xpath('//*[@id=\"ProductSelect-option-0\"]/label[8]')\n",
    "poron_foam.click()"
   ]
  },
  {
   "cell_type": "code",
   "execution_count": 6,
   "id": "b3023cde-24ad-495a-af67-7d377819047b",
   "metadata": {},
   "outputs": [],
   "source": [
    "# Add item to cart\n",
    "\n",
    "add_to_cart_button = wd.find_element_by_xpath('//*[@data-action=\"add-to-cart\"]')\n",
    "add_to_cart_button.click()"
   ]
  },
  {
   "cell_type": "code",
   "execution_count": 7,
   "id": "ccc62bbd-cd6c-4f37-ba29-b34c07c6aa50",
   "metadata": {},
   "outputs": [],
   "source": [
    "# Checkout process starts here\n",
    "check_out_button = wd.find_element_by_xpath('//*[@id=\"shopify-section-header\"]/div[3]/div[2]/form/div[2]/div[2]/button')\n",
    "check_out_button.click()\n",
    "\n",
    "shipping_button = wd.find_element_by_xpath('//*[@id=\"continue_button\"]')\n",
    "shipping_button.click()\n",
    "\n",
    "time.sleep(2)\n",
    "\n",
    "payment_button = wd.find_element_by_xpath('//*[@id=\"continue_button\"]')\n",
    "payment_button.click()\n",
    "\n",
    "time.sleep(0.5)\n",
    "\n",
    "select_cc = wd.find_element_by_xpath('//*[@id=\"checkout_payment_gateway_62043685021\"]')\n",
    "select_cc.click()\n",
    "\n",
    "complete_order_button = wd.find_element_by_xpath('//*[@id=\"continue_button\"]')\n",
    "complete_order_button.click()\n",
    "\n",
    "time.sleep(1.5)\n",
    "\n",
    "cc_no = wd.find_element_by_xpath('//*[@id=\"card_number_temp\"]')\n",
    "type(cc_no)\n",
    "cc_no.send_keys(\"5264710339730993\")\n",
    "\n",
    "exp_date = wd.find_element_by_xpath('//*[@id=\"checkout_expiration_date\"]')\n",
    "type(exp_date)\n",
    "exp_date.send_keys(\"04/26\")\n",
    "\n",
    "secure_code = wd.find_element_by_xpath('//*[@id=\"cvv2\"]')\n",
    "type(secure_code)\n",
    "secure_code.send_keys(\"123\")\n",
    "\n",
    "#pay_button = wd.find_element_by_xpath('//*[@id=\"wrap_height\"]/div/div[3]/div/div[4]/button[1]/span')\n",
    "#pay_button.click()"
   ]
  }
 ],
 "metadata": {
  "kernelspec": {
   "display_name": "Python 3 (ipykernel)",
   "language": "python",
   "name": "python3"
  },
  "language_info": {
   "codemirror_mode": {
    "name": "ipython",
    "version": 3
   },
   "file_extension": ".py",
   "mimetype": "text/x-python",
   "name": "python",
   "nbconvert_exporter": "python",
   "pygments_lexer": "ipython3",
   "version": "3.8.12"
  }
 },
 "nbformat": 4,
 "nbformat_minor": 5
}
